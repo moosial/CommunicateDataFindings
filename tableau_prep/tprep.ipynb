{
 "cells": [
  {
   "cell_type": "code",
   "execution_count": 1,
   "metadata": {},
   "outputs": [],
   "source": [
    "import pandas as pd\n",
    "import numpy as np\n"
   ]
  },
  {
   "cell_type": "code",
   "execution_count": 2,
   "metadata": {},
   "outputs": [],
   "source": [
    "# harmonize and shrink the dataset based on the above mentioned rationales\n",
    "# read the selected attributes\n",
    "df = pd.read_excel('prosperLoanData.xlsx')\n"
   ]
  },
  {
   "cell_type": "code",
   "execution_count": 3,
   "metadata": {},
   "outputs": [],
   "source": [
    "df = df[df.ProsperScore.notnull()]"
   ]
  },
  {
   "cell_type": "code",
   "execution_count": 4,
   "metadata": {},
   "outputs": [
    {
     "name": "stdout",
     "output_type": "stream",
     "text": [
      "<class 'pandas.core.frame.DataFrame'>\n",
      "Int64Index: 84853 entries, 1 to 113936\n",
      "Data columns (total 81 columns):\n",
      "ListingKey                             84853 non-null object\n",
      "ListingNumber                          84853 non-null int64\n",
      "ListingCreationDate                    84853 non-null object\n",
      "CreditGrade                            0 non-null object\n",
      "Term                                   84853 non-null int64\n",
      "LoanStatus                             84853 non-null object\n",
      "ClosedDate                             26005 non-null datetime64[ns]\n",
      "BorrowerAPR                            84853 non-null float64\n",
      "BorrowerRate                           84853 non-null float64\n",
      "LenderYield                            84853 non-null float64\n",
      "EstimatedEffectiveYield                84853 non-null float64\n",
      "EstimatedLoss                          84853 non-null float64\n",
      "EstimatedReturn                        84853 non-null float64\n",
      "ProsperRating (numeric)                84853 non-null float64\n",
      "ProsperRating (Alpha)                  84853 non-null object\n",
      "ProsperScore                           84853 non-null float64\n",
      "ListingCategory (numeric)              84853 non-null int64\n",
      "BorrowerState                          84853 non-null object\n",
      "Occupation                             83520 non-null object\n",
      "EmploymentStatus                       84853 non-null object\n",
      "EmploymentStatusDuration               84834 non-null float64\n",
      "IsBorrowerHomeowner                    84853 non-null bool\n",
      "CurrentlyInGroup                       84853 non-null bool\n",
      "GroupKey                               2026 non-null object\n",
      "DateCreditPulled                       84853 non-null datetime64[ns]\n",
      "CreditScoreRangeLower                  84853 non-null float64\n",
      "CreditScoreRangeUpper                  84853 non-null float64\n",
      "FirstRecordedCreditLine                84853 non-null datetime64[ns]\n",
      "CurrentCreditLines                     84853 non-null float64\n",
      "OpenCreditLines                        84853 non-null float64\n",
      "TotalCreditLinespast7years             84853 non-null float64\n",
      "OpenRevolvingAccounts                  84853 non-null int64\n",
      "OpenRevolvingMonthlyPayment            84853 non-null int64\n",
      "InquiriesLast6Months                   84853 non-null float64\n",
      "TotalInquiries                         84853 non-null float64\n",
      "CurrentDelinquencies                   84853 non-null float64\n",
      "AmountDelinquent                       84853 non-null float64\n",
      "DelinquenciesLast7Years                84853 non-null float64\n",
      "PublicRecordsLast10Years               84853 non-null float64\n",
      "PublicRecordsLast12Months              84853 non-null float64\n",
      "RevolvingCreditBalance                 84853 non-null float64\n",
      "BankcardUtilization                    84853 non-null float64\n",
      "AvailableBankcardCredit                84853 non-null float64\n",
      "TotalTrades                            84853 non-null float64\n",
      "TradesNeverDelinquent (percentage)     84853 non-null float64\n",
      "TradesOpenedLast6Months                84853 non-null float64\n",
      "DebtToIncomeRatio                      77557 non-null float64\n",
      "IncomeRange                            84853 non-null object\n",
      "IncomeVerifiable                       84853 non-null bool\n",
      "StatedMonthlyIncome                    84853 non-null float64\n",
      "LoanKey                                84853 non-null object\n",
      "TotalProsperLoans                      19797 non-null float64\n",
      "TotalProsperPaymentsBilled             19797 non-null float64\n",
      "OnTimeProsperPayments                  19797 non-null float64\n",
      "ProsperPaymentsLessThanOneMonthLate    19797 non-null float64\n",
      "ProsperPaymentsOneMonthPlusLate        19797 non-null float64\n",
      "ProsperPrincipalBorrowed               19797 non-null float64\n",
      "ProsperPrincipalOutstanding            19797 non-null float64\n",
      "ScorexChangeAtTimeOfListing            16642 non-null float64\n",
      "LoanCurrentDaysDelinquent              84853 non-null int64\n",
      "LoanFirstDefaultedCycleNumber          6244 non-null float64\n",
      "LoanMonthsSinceOrigination             84853 non-null int64\n",
      "LoanNumber                             84853 non-null int64\n",
      "LoanOriginalAmount                     84853 non-null int64\n",
      "LoanOriginationDate                    84853 non-null datetime64[ns]\n",
      "LoanOriginationQuarter                 84853 non-null object\n",
      "MemberKey                              84853 non-null object\n",
      "MonthlyLoanPayment                     84853 non-null float64\n",
      "LP_CustomerPayments                    84853 non-null float64\n",
      "LP_CustomerPrincipalPayments           84853 non-null float64\n",
      "LP_InterestandFees                     84853 non-null float64\n",
      "LP_ServiceFees                         84853 non-null float64\n",
      "LP_CollectionFees                      84853 non-null float64\n",
      "LP_GrossPrincipalLoss                  84853 non-null float64\n",
      "LP_NetPrincipalLoss                    84853 non-null float64\n",
      "LP_NonPrincipalRecoverypayments        84853 non-null float64\n",
      "PercentFunded                          84853 non-null float64\n",
      "Recommendations                        84853 non-null int64\n",
      "InvestmentFromFriendsCount             84853 non-null int64\n",
      "InvestmentFromFriendsAmount            84853 non-null float64\n",
      "Investors                              84853 non-null int64\n",
      "dtypes: bool(3), datetime64[ns](4), float64(49), int64(12), object(13)\n",
      "memory usage: 51.4+ MB\n"
     ]
    }
   ],
   "source": [
    "df.info()"
   ]
  },
  {
   "cell_type": "code",
   "execution_count": 5,
   "metadata": {},
   "outputs": [],
   "source": [
    "# change Occupation NAs to \"Others\"\n",
    "df['Occupation'].fillna(df.Occupation.value_counts().index[0], inplace=True)"
   ]
  },
  {
   "cell_type": "code",
   "execution_count": 6,
   "metadata": {},
   "outputs": [
    {
     "data": {
      "text/plain": [
       "0"
      ]
     },
     "execution_count": 6,
     "metadata": {},
     "output_type": "execute_result"
    }
   ],
   "source": [
    "df.Occupation.value_counts().isnull().sum()"
   ]
  },
  {
   "cell_type": "code",
   "execution_count": 9,
   "metadata": {},
   "outputs": [],
   "source": [
    "df = df[df.DebtToIncomeRatio.notnull()]"
   ]
  },
  {
   "cell_type": "code",
   "execution_count": 21,
   "metadata": {},
   "outputs": [],
   "source": [
    "df = df[df.EmploymentStatusDuration.notnull()]"
   ]
  },
  {
   "cell_type": "code",
   "execution_count": 22,
   "metadata": {},
   "outputs": [
    {
     "name": "stdout",
     "output_type": "stream",
     "text": [
      "<class 'pandas.core.frame.DataFrame'>\n",
      "Int64Index: 77543 entries, 1 to 113936\n",
      "Data columns (total 81 columns):\n",
      "ListingKey                             77543 non-null object\n",
      "ListingNumber                          77543 non-null int64\n",
      "ListingCreationDate                    77543 non-null object\n",
      "CreditGrade                            0 non-null object\n",
      "Term                                   77543 non-null int64\n",
      "LoanStatus                             77543 non-null object\n",
      "ClosedDate                             23029 non-null datetime64[ns]\n",
      "BorrowerAPR                            77543 non-null float64\n",
      "BorrowerRate                           77543 non-null float64\n",
      "LenderYield                            77543 non-null float64\n",
      "EstimatedEffectiveYield                77543 non-null float64\n",
      "EstimatedLoss                          77543 non-null float64\n",
      "EstimatedReturn                        77543 non-null float64\n",
      "ProsperRating (numeric)                77543 non-null float64\n",
      "ProsperRating (Alpha)                  77543 non-null object\n",
      "ProsperScore                           77543 non-null float64\n",
      "ListingCategory (numeric)              77543 non-null int64\n",
      "BorrowerState                          77543 non-null object\n",
      "Occupation                             77543 non-null object\n",
      "EmploymentStatus                       77543 non-null object\n",
      "EmploymentStatusDuration               77543 non-null float64\n",
      "IsBorrowerHomeowner                    77543 non-null bool\n",
      "CurrentlyInGroup                       77543 non-null bool\n",
      "GroupKey                               1743 non-null object\n",
      "DateCreditPulled                       77543 non-null datetime64[ns]\n",
      "CreditScoreRangeLower                  77543 non-null float64\n",
      "CreditScoreRangeUpper                  77543 non-null float64\n",
      "FirstRecordedCreditLine                77543 non-null datetime64[ns]\n",
      "CurrentCreditLines                     77543 non-null float64\n",
      "OpenCreditLines                        77543 non-null float64\n",
      "TotalCreditLinespast7years             77543 non-null float64\n",
      "OpenRevolvingAccounts                  77543 non-null int64\n",
      "OpenRevolvingMonthlyPayment            77543 non-null int64\n",
      "InquiriesLast6Months                   77543 non-null float64\n",
      "TotalInquiries                         77543 non-null float64\n",
      "CurrentDelinquencies                   77543 non-null float64\n",
      "AmountDelinquent                       77543 non-null float64\n",
      "DelinquenciesLast7Years                77543 non-null float64\n",
      "PublicRecordsLast10Years               77543 non-null float64\n",
      "PublicRecordsLast12Months              77543 non-null float64\n",
      "RevolvingCreditBalance                 77543 non-null float64\n",
      "BankcardUtilization                    77543 non-null float64\n",
      "AvailableBankcardCredit                77543 non-null float64\n",
      "TotalTrades                            77543 non-null float64\n",
      "TradesNeverDelinquent (percentage)     77543 non-null float64\n",
      "TradesOpenedLast6Months                77543 non-null float64\n",
      "DebtToIncomeRatio                      77543 non-null float64\n",
      "IncomeRange                            77543 non-null object\n",
      "IncomeVerifiable                       77543 non-null bool\n",
      "StatedMonthlyIncome                    77543 non-null float64\n",
      "LoanKey                                77543 non-null object\n",
      "TotalProsperLoans                      17722 non-null float64\n",
      "TotalProsperPaymentsBilled             17722 non-null float64\n",
      "OnTimeProsperPayments                  17722 non-null float64\n",
      "ProsperPaymentsLessThanOneMonthLate    17722 non-null float64\n",
      "ProsperPaymentsOneMonthPlusLate        17722 non-null float64\n",
      "ProsperPrincipalBorrowed               17722 non-null float64\n",
      "ProsperPrincipalOutstanding            17722 non-null float64\n",
      "ScorexChangeAtTimeOfListing            14853 non-null float64\n",
      "LoanCurrentDaysDelinquent              77543 non-null int64\n",
      "LoanFirstDefaultedCycleNumber          5243 non-null float64\n",
      "LoanMonthsSinceOrigination             77543 non-null int64\n",
      "LoanNumber                             77543 non-null int64\n",
      "LoanOriginalAmount                     77543 non-null int64\n",
      "LoanOriginationDate                    77543 non-null datetime64[ns]\n",
      "LoanOriginationQuarter                 77543 non-null object\n",
      "MemberKey                              77543 non-null object\n",
      "MonthlyLoanPayment                     77543 non-null float64\n",
      "LP_CustomerPayments                    77543 non-null float64\n",
      "LP_CustomerPrincipalPayments           77543 non-null float64\n",
      "LP_InterestandFees                     77543 non-null float64\n",
      "LP_ServiceFees                         77543 non-null float64\n",
      "LP_CollectionFees                      77543 non-null float64\n",
      "LP_GrossPrincipalLoss                  77543 non-null float64\n",
      "LP_NetPrincipalLoss                    77543 non-null float64\n",
      "LP_NonPrincipalRecoverypayments        77543 non-null float64\n",
      "PercentFunded                          77543 non-null float64\n",
      "Recommendations                        77543 non-null int64\n",
      "InvestmentFromFriendsCount             77543 non-null int64\n",
      "InvestmentFromFriendsAmount            77543 non-null float64\n",
      "Investors                              77543 non-null int64\n",
      "dtypes: bool(3), datetime64[ns](4), float64(49), int64(12), object(13)\n",
      "memory usage: 47.0+ MB\n"
     ]
    }
   ],
   "source": [
    "df.info()"
   ]
  },
  {
   "cell_type": "code",
   "execution_count": null,
   "metadata": {},
   "outputs": [],
   "source": []
  },
  {
   "cell_type": "code",
   "execution_count": 23,
   "metadata": {},
   "outputs": [],
   "source": [
    "samples = np.random.choice(df.shape[0], 30000, replace = False)\n",
    "mv = df.iloc[samples,:]"
   ]
  },
  {
   "cell_type": "code",
   "execution_count": 24,
   "metadata": {},
   "outputs": [
    {
     "data": {
      "text/plain": [
       "77543"
      ]
     },
     "execution_count": 24,
     "metadata": {},
     "output_type": "execute_result"
    }
   ],
   "source": [
    "df.shape[0]"
   ]
  },
  {
   "cell_type": "code",
   "execution_count": 33,
   "metadata": {},
   "outputs": [],
   "source": [
    "mv.ListingCreationDate =  pd.to_datetime(mv['ListingCreationDate'])"
   ]
  },
  {
   "cell_type": "markdown",
   "metadata": {},
   "source": [
    "# changing cols with rename() \n",
    "mv = mv.rename(columns = {\"ListingCategory (numeric)\": \"ListingCategory_numeric\"}) "
   ]
  },
  {
   "cell_type": "code",
   "execution_count": 72,
   "metadata": {},
   "outputs": [],
   "source": [
    "mv = mv.rename(columns = {\"ListingCategory (numeric)\": \"ListingCategory_numeric\"}) "
   ]
  },
  {
   "cell_type": "code",
   "execution_count": 73,
   "metadata": {},
   "outputs": [
    {
     "name": "stdout",
     "output_type": "stream",
     "text": [
      "<class 'pandas.core.frame.DataFrame'>\n",
      "Int64Index: 30000 entries, 39057 to 24733\n",
      "Data columns (total 81 columns):\n",
      "ListingKey                             30000 non-null object\n",
      "ListingNumber                          30000 non-null int64\n",
      "ListingCreationDate                    30000 non-null datetime64[ns]\n",
      "CreditGrade                            0 non-null object\n",
      "Term                                   30000 non-null int64\n",
      "LoanStatus                             30000 non-null object\n",
      "ClosedDate                             8942 non-null datetime64[ns]\n",
      "BorrowerAPR                            30000 non-null float64\n",
      "BorrowerRate                           30000 non-null float64\n",
      "LenderYield                            30000 non-null float64\n",
      "EstimatedEffectiveYield                30000 non-null float64\n",
      "EstimatedLoss                          30000 non-null float64\n",
      "EstimatedReturn                        30000 non-null float64\n",
      "ProsperRating (numeric)                30000 non-null float64\n",
      "ProsperRating (Alpha)                  30000 non-null object\n",
      "ProsperScore                           30000 non-null float64\n",
      "ListingCategory_numeric                30000 non-null int64\n",
      "BorrowerState                          30000 non-null object\n",
      "Occupation                             30000 non-null object\n",
      "EmploymentStatus                       30000 non-null object\n",
      "EmploymentStatusDuration               30000 non-null float64\n",
      "IsBorrowerHomeowner                    30000 non-null bool\n",
      "CurrentlyInGroup                       30000 non-null bool\n",
      "GroupKey                               668 non-null object\n",
      "DateCreditPulled                       30000 non-null datetime64[ns]\n",
      "CreditScoreRangeLower                  30000 non-null float64\n",
      "CreditScoreRangeUpper                  30000 non-null float64\n",
      "FirstRecordedCreditLine                30000 non-null datetime64[ns]\n",
      "CurrentCreditLines                     30000 non-null float64\n",
      "OpenCreditLines                        30000 non-null float64\n",
      "TotalCreditLinespast7years             30000 non-null float64\n",
      "OpenRevolvingAccounts                  30000 non-null int64\n",
      "OpenRevolvingMonthlyPayment            30000 non-null int64\n",
      "InquiriesLast6Months                   30000 non-null float64\n",
      "TotalInquiries                         30000 non-null float64\n",
      "CurrentDelinquencies                   30000 non-null float64\n",
      "AmountDelinquent                       30000 non-null float64\n",
      "DelinquenciesLast7Years                30000 non-null float64\n",
      "PublicRecordsLast10Years               30000 non-null float64\n",
      "PublicRecordsLast12Months              30000 non-null float64\n",
      "RevolvingCreditBalance                 30000 non-null float64\n",
      "BankcardUtilization                    30000 non-null float64\n",
      "AvailableBankcardCredit                30000 non-null float64\n",
      "TotalTrades                            30000 non-null float64\n",
      "TradesNeverDelinquent (percentage)     30000 non-null float64\n",
      "TradesOpenedLast6Months                30000 non-null float64\n",
      "DebtToIncomeRatio                      30000 non-null float64\n",
      "IncomeRange                            30000 non-null object\n",
      "IncomeVerifiable                       30000 non-null bool\n",
      "StatedMonthlyIncome                    30000 non-null float64\n",
      "LoanKey                                30000 non-null object\n",
      "TotalProsperLoans                      6902 non-null float64\n",
      "TotalProsperPaymentsBilled             6902 non-null float64\n",
      "OnTimeProsperPayments                  6902 non-null float64\n",
      "ProsperPaymentsLessThanOneMonthLate    6902 non-null float64\n",
      "ProsperPaymentsOneMonthPlusLate        6902 non-null float64\n",
      "ProsperPrincipalBorrowed               6902 non-null float64\n",
      "ProsperPrincipalOutstanding            6902 non-null float64\n",
      "ScorexChangeAtTimeOfListing            5772 non-null float64\n",
      "LoanCurrentDaysDelinquent              30000 non-null int64\n",
      "LoanFirstDefaultedCycleNumber          2020 non-null float64\n",
      "LoanMonthsSinceOrigination             30000 non-null int64\n",
      "LoanNumber                             30000 non-null int64\n",
      "LoanOriginalAmount                     30000 non-null int64\n",
      "LoanOriginationDate                    30000 non-null datetime64[ns]\n",
      "LoanOriginationQuarter                 30000 non-null object\n",
      "MemberKey                              30000 non-null object\n",
      "MonthlyLoanPayment                     30000 non-null float64\n",
      "LP_CustomerPayments                    30000 non-null float64\n",
      "LP_CustomerPrincipalPayments           30000 non-null float64\n",
      "LP_InterestandFees                     30000 non-null float64\n",
      "LP_ServiceFees                         30000 non-null float64\n",
      "LP_CollectionFees                      30000 non-null float64\n",
      "LP_GrossPrincipalLoss                  30000 non-null float64\n",
      "LP_NetPrincipalLoss                    30000 non-null float64\n",
      "LP_NonPrincipalRecoverypayments        30000 non-null float64\n",
      "PercentFunded                          30000 non-null float64\n",
      "Recommendations                        30000 non-null int64\n",
      "InvestmentFromFriendsCount             30000 non-null int64\n",
      "InvestmentFromFriendsAmount            30000 non-null float64\n",
      "Investors                              30000 non-null int64\n",
      "dtypes: bool(3), datetime64[ns](5), float64(49), int64(12), object(12)\n",
      "memory usage: 18.2+ MB\n"
     ]
    }
   ],
   "source": [
    "mv.info()"
   ]
  },
  {
   "cell_type": "code",
   "execution_count": 75,
   "metadata": {},
   "outputs": [],
   "source": [
    "listing_db = mv[['ListingNumber', 'ListingCategory_numeric', 'ListingCreationDate',  'LoanOriginationDate', 'Term' ,'LoanOriginalAmount','BorrowerAPR','EstimatedLoss','ProsperRating (numeric)',\n",
    "                 'ProsperRating (Alpha)','ProsperScore', 'CreditScoreRangeLower','CreditScoreRangeUpper']]\n",
    "\n",
    "demographic_db = mv[['ListingNumber','IsBorrowerHomeowner','BorrowerState','Occupation','EmploymentStatus', \n",
    "                     'EmploymentStatusDuration','StatedMonthlyIncome','IncomeRange','IncomeVerifiable','MonthlyLoanPayment']]"
   ]
  },
  {
   "cell_type": "code",
   "execution_count": 76,
   "metadata": {},
   "outputs": [],
   "source": [
    "# transform the variable\n",
    "## step 1: create a pandas series index 0 = Not Avalibale....\n",
    "data = np.array(['Not Available','Debt Consolidation','Home Improvement','Business',\n",
    "                 'Personal Loan','Student Use','Auto','Other','Baby&Adoption',\n",
    "                 'Boat','Cosmetic Procedure','Engagement Ring','Green Loans','Household Expenses',\n",
    "                 'Large Purchases','Medical/Dental','Motorcycle','RV','Taxes',\n",
    "                 'Vacation','Wedding Loans'])\n",
    "listing_category_alpha = pd.Series(data)"
   ]
  },
  {
   "cell_type": "code",
   "execution_count": 78,
   "metadata": {},
   "outputs": [
    {
     "name": "stderr",
     "output_type": "stream",
     "text": [
      "/Users/moosial/anaconda3/lib/python3.7/site-packages/ipykernel_launcher.py:7: SettingWithCopyWarning: \n",
      "A value is trying to be set on a copy of a slice from a DataFrame.\n",
      "Try using .loc[row_indexer,col_indexer] = value instead\n",
      "\n",
      "See the caveats in the documentation: http://pandas.pydata.org/pandas-docs/stable/indexing.html#indexing-view-versus-copy\n",
      "  import sys\n",
      "/Users/moosial/anaconda3/lib/python3.7/site-packages/ipykernel_launcher.py:9: SettingWithCopyWarning: \n",
      "A value is trying to be set on a copy of a slice from a DataFrame.\n",
      "Try using .loc[row_indexer,col_indexer] = value instead\n",
      "\n",
      "See the caveats in the documentation: http://pandas.pydata.org/pandas-docs/stable/indexing.html#indexing-view-versus-copy\n",
      "  if __name__ == '__main__':\n"
     ]
    }
   ],
   "source": [
    "## Step 2 define a function which gives based on zeh index the cat string\n",
    "def trans_2_cat(x):\n",
    "    category = listing_category_alpha[x]\n",
    "    return category\n",
    "\n",
    "## create a new attribute \n",
    "listing_db['ListingCategory_alpha'] = listing_db['ListingCategory_numeric'].apply(trans_2_cat)\n",
    "## transform to categorial\n",
    "listing_db['ListingCategory_alpha'] = listing_db['ListingCategory_alpha'].astype('category')"
   ]
  },
  {
   "cell_type": "code",
   "execution_count": 79,
   "metadata": {},
   "outputs": [
    {
     "data": {
      "text/plain": [
       "Debt Consolidation    0.642100\n",
       "Other                 0.104600\n",
       "Home Improvement      0.082933\n",
       "Business              0.047633\n",
       "Auto                  0.025867\n",
       "Household Expenses    0.022400\n",
       "Medical/Dental        0.018133\n",
       "Taxes                 0.010367\n",
       "Wedding Loans         0.010267\n",
       "Large Purchases       0.010100\n",
       "Vacation              0.009267\n",
       "Motorcycle            0.004333\n",
       "Engagement Ring       0.003067\n",
       "Student Use           0.002900\n",
       "Baby&Adoption         0.002267\n",
       "Boat                  0.001200\n",
       "Cosmetic Procedure    0.000800\n",
       "RV                    0.000733\n",
       "Green Loans           0.000733\n",
       "Not Available         0.000300\n",
       "Name: ListingCategory_alpha, dtype: float64"
      ]
     },
     "execution_count": 79,
     "metadata": {},
     "output_type": "execute_result"
    }
   ],
   "source": [
    "listing_db.ListingCategory_alpha.value_counts(normalize=True)"
   ]
  },
  {
   "cell_type": "code",
   "execution_count": null,
   "metadata": {},
   "outputs": [],
   "source": []
  },
  {
   "cell_type": "code",
   "execution_count": null,
   "metadata": {},
   "outputs": [],
   "source": []
  },
  {
   "cell_type": "code",
   "execution_count": 80,
   "metadata": {},
   "outputs": [
    {
     "name": "stdout",
     "output_type": "stream",
     "text": [
      "<class 'pandas.core.frame.DataFrame'>\n",
      "Int64Index: 30000 entries, 39057 to 24733\n",
      "Data columns (total 14 columns):\n",
      "ListingNumber              30000 non-null int64\n",
      "ListingCategory_numeric    30000 non-null int64\n",
      "ListingCreationDate        30000 non-null datetime64[ns]\n",
      "LoanOriginationDate        30000 non-null datetime64[ns]\n",
      "Term                       30000 non-null int64\n",
      "LoanOriginalAmount         30000 non-null int64\n",
      "BorrowerAPR                30000 non-null float64\n",
      "EstimatedLoss              30000 non-null float64\n",
      "ProsperRating (numeric)    30000 non-null float64\n",
      "ProsperRating (Alpha)      30000 non-null object\n",
      "ProsperScore               30000 non-null float64\n",
      "CreditScoreRangeLower      30000 non-null float64\n",
      "CreditScoreRangeUpper      30000 non-null float64\n",
      "ListingCategory_alpha      30000 non-null category\n",
      "dtypes: category(1), datetime64[ns](2), float64(6), int64(4), object(1)\n",
      "memory usage: 3.2+ MB\n"
     ]
    }
   ],
   "source": [
    "listing_db.info()"
   ]
  },
  {
   "cell_type": "code",
   "execution_count": 81,
   "metadata": {},
   "outputs": [
    {
     "name": "stdout",
     "output_type": "stream",
     "text": [
      "<class 'pandas.core.frame.DataFrame'>\n",
      "Int64Index: 30000 entries, 39057 to 24733\n",
      "Data columns (total 10 columns):\n",
      "ListingNumber               30000 non-null int64\n",
      "IsBorrowerHomeowner         30000 non-null bool\n",
      "BorrowerState               30000 non-null object\n",
      "Occupation                  30000 non-null object\n",
      "EmploymentStatus            30000 non-null object\n",
      "EmploymentStatusDuration    30000 non-null float64\n",
      "StatedMonthlyIncome         30000 non-null float64\n",
      "IncomeRange                 30000 non-null object\n",
      "IncomeVerifiable            30000 non-null bool\n",
      "MonthlyLoanPayment          30000 non-null float64\n",
      "dtypes: bool(2), float64(3), int64(1), object(4)\n",
      "memory usage: 2.1+ MB\n"
     ]
    }
   ],
   "source": [
    "demographic_db.info()"
   ]
  },
  {
   "cell_type": "code",
   "execution_count": null,
   "metadata": {},
   "outputs": [],
   "source": []
  },
  {
   "cell_type": "code",
   "execution_count": null,
   "metadata": {},
   "outputs": [],
   "source": []
  },
  {
   "cell_type": "code",
   "execution_count": null,
   "metadata": {},
   "outputs": [],
   "source": []
  },
  {
   "cell_type": "code",
   "execution_count": 82,
   "metadata": {},
   "outputs": [],
   "source": [
    "listing_db.to_excel(\"listing_db.xlsx\", index=False) \n",
    "demographic_db.to_excel(\"demographic_db.xlsx\", index=False) "
   ]
  },
  {
   "cell_type": "code",
   "execution_count": null,
   "metadata": {},
   "outputs": [],
   "source": []
  }
 ],
 "metadata": {
  "kernelspec": {
   "display_name": "Python 3",
   "language": "python",
   "name": "python3"
  },
  "language_info": {
   "codemirror_mode": {
    "name": "ipython",
    "version": 3
   },
   "file_extension": ".py",
   "mimetype": "text/x-python",
   "name": "python",
   "nbconvert_exporter": "python",
   "pygments_lexer": "ipython3",
   "version": "3.7.1"
  }
 },
 "nbformat": 4,
 "nbformat_minor": 2
}
