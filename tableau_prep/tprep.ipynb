{
 "cells": [
  {
   "cell_type": "code",
   "execution_count": 1,
   "metadata": {},
   "outputs": [],
   "source": [
    "import pandas as pd\n",
    "import numpy as np\n"
   ]
  },
  {
   "cell_type": "code",
   "execution_count": 8,
   "metadata": {},
   "outputs": [
    {
     "ename": "AttributeError",
     "evalue": "'DataFrame' object has no attribute 'ProsperRating'",
     "output_type": "error",
     "traceback": [
      "\u001b[1;31m---------------------------------------------------------------------------\u001b[0m",
      "\u001b[1;31mAttributeError\u001b[0m                            Traceback (most recent call last)",
      "\u001b[1;32m<ipython-input-8-62142deb505e>\u001b[0m in \u001b[0;36m<module>\u001b[1;34m\u001b[0m\n\u001b[0;32m      2\u001b[0m \u001b[1;31m# read the selected attributes\u001b[0m\u001b[1;33m\u001b[0m\u001b[1;33m\u001b[0m\u001b[1;33m\u001b[0m\u001b[0m\n\u001b[0;32m      3\u001b[0m \u001b[0mdf\u001b[0m \u001b[1;33m=\u001b[0m \u001b[0mpd\u001b[0m\u001b[1;33m.\u001b[0m\u001b[0mread_excel\u001b[0m\u001b[1;33m(\u001b[0m\u001b[1;34m'prosperLoanData.xlsx'\u001b[0m\u001b[1;33m)\u001b[0m\u001b[1;33m\u001b[0m\u001b[1;33m\u001b[0m\u001b[0m\n\u001b[1;32m----> 4\u001b[1;33m \u001b[0mdf\u001b[0m \u001b[1;33m=\u001b[0m \u001b[0mdf\u001b[0m\u001b[1;33m[\u001b[0m\u001b[0mdf\u001b[0m\u001b[1;33m.\u001b[0m\u001b[0mProsperRating\u001b[0m\u001b[1;33m.\u001b[0m\u001b[0mnotnull\u001b[0m\u001b[1;33m(\u001b[0m\u001b[1;33m)\u001b[0m\u001b[1;33m]\u001b[0m\u001b[1;33m\u001b[0m\u001b[1;33m\u001b[0m\u001b[0m\n\u001b[0m",
      "\u001b[1;32m~\\AppData\\Local\\Continuum\\anaconda3\\lib\\site-packages\\pandas\\core\\generic.py\u001b[0m in \u001b[0;36m__getattr__\u001b[1;34m(self, name)\u001b[0m\n\u001b[0;32m   4374\u001b[0m             \u001b[1;32mif\u001b[0m \u001b[0mself\u001b[0m\u001b[1;33m.\u001b[0m\u001b[0m_info_axis\u001b[0m\u001b[1;33m.\u001b[0m\u001b[0m_can_hold_identifiers_and_holds_name\u001b[0m\u001b[1;33m(\u001b[0m\u001b[0mname\u001b[0m\u001b[1;33m)\u001b[0m\u001b[1;33m:\u001b[0m\u001b[1;33m\u001b[0m\u001b[1;33m\u001b[0m\u001b[0m\n\u001b[0;32m   4375\u001b[0m                 \u001b[1;32mreturn\u001b[0m \u001b[0mself\u001b[0m\u001b[1;33m[\u001b[0m\u001b[0mname\u001b[0m\u001b[1;33m]\u001b[0m\u001b[1;33m\u001b[0m\u001b[1;33m\u001b[0m\u001b[0m\n\u001b[1;32m-> 4376\u001b[1;33m             \u001b[1;32mreturn\u001b[0m \u001b[0mobject\u001b[0m\u001b[1;33m.\u001b[0m\u001b[0m__getattribute__\u001b[0m\u001b[1;33m(\u001b[0m\u001b[0mself\u001b[0m\u001b[1;33m,\u001b[0m \u001b[0mname\u001b[0m\u001b[1;33m)\u001b[0m\u001b[1;33m\u001b[0m\u001b[1;33m\u001b[0m\u001b[0m\n\u001b[0m\u001b[0;32m   4377\u001b[0m \u001b[1;33m\u001b[0m\u001b[0m\n\u001b[0;32m   4378\u001b[0m     \u001b[1;32mdef\u001b[0m \u001b[0m__setattr__\u001b[0m\u001b[1;33m(\u001b[0m\u001b[0mself\u001b[0m\u001b[1;33m,\u001b[0m \u001b[0mname\u001b[0m\u001b[1;33m,\u001b[0m \u001b[0mvalue\u001b[0m\u001b[1;33m)\u001b[0m\u001b[1;33m:\u001b[0m\u001b[1;33m\u001b[0m\u001b[1;33m\u001b[0m\u001b[0m\n",
      "\u001b[1;31mAttributeError\u001b[0m: 'DataFrame' object has no attribute 'ProsperRating'"
     ]
    }
   ],
   "source": [
    "# harmonize and shrink the dataset based on the above mentioned rationales\n",
    "# read the selected attributes\n",
    "df = pd.read_excel('prosperLoanData.xlsx')\n"
   ]
  },
  {
   "cell_type": "code",
   "execution_count": 10,
   "metadata": {},
   "outputs": [],
   "source": [
    "df = df[df.ProsperScore.notnull()]"
   ]
  },
  {
   "cell_type": "code",
   "execution_count": 11,
   "metadata": {},
   "outputs": [
    {
     "name": "stdout",
     "output_type": "stream",
     "text": [
      "<class 'pandas.core.frame.DataFrame'>\n",
      "Int64Index: 84853 entries, 1 to 113936\n",
      "Data columns (total 81 columns):\n",
      "ListingKey                             84853 non-null object\n",
      "ListingNumber                          84853 non-null int64\n",
      "ListingCreationDate                    84853 non-null object\n",
      "CreditGrade                            0 non-null object\n",
      "Term                                   84853 non-null int64\n",
      "LoanStatus                             84853 non-null object\n",
      "ClosedDate                             26005 non-null datetime64[ns]\n",
      "BorrowerAPR                            84853 non-null float64\n",
      "BorrowerRate                           84853 non-null float64\n",
      "LenderYield                            84853 non-null float64\n",
      "EstimatedEffectiveYield                84853 non-null float64\n",
      "EstimatedLoss                          84853 non-null float64\n",
      "EstimatedReturn                        84853 non-null float64\n",
      "ProsperRating (numeric)                84853 non-null float64\n",
      "ProsperRating (Alpha)                  84853 non-null object\n",
      "ProsperScore                           84853 non-null float64\n",
      "ListingCategory (numeric)              84853 non-null int64\n",
      "BorrowerState                          84853 non-null object\n",
      "Occupation                             83520 non-null object\n",
      "EmploymentStatus                       84853 non-null object\n",
      "EmploymentStatusDuration               84834 non-null float64\n",
      "IsBorrowerHomeowner                    84853 non-null bool\n",
      "CurrentlyInGroup                       84853 non-null bool\n",
      "GroupKey                               2026 non-null object\n",
      "DateCreditPulled                       84853 non-null datetime64[ns]\n",
      "CreditScoreRangeLower                  84853 non-null float64\n",
      "CreditScoreRangeUpper                  84853 non-null float64\n",
      "FirstRecordedCreditLine                84853 non-null datetime64[ns]\n",
      "CurrentCreditLines                     84853 non-null float64\n",
      "OpenCreditLines                        84853 non-null float64\n",
      "TotalCreditLinespast7years             84853 non-null float64\n",
      "OpenRevolvingAccounts                  84853 non-null int64\n",
      "OpenRevolvingMonthlyPayment            84853 non-null int64\n",
      "InquiriesLast6Months                   84853 non-null float64\n",
      "TotalInquiries                         84853 non-null float64\n",
      "CurrentDelinquencies                   84853 non-null float64\n",
      "AmountDelinquent                       84853 non-null float64\n",
      "DelinquenciesLast7Years                84853 non-null float64\n",
      "PublicRecordsLast10Years               84853 non-null float64\n",
      "PublicRecordsLast12Months              84853 non-null float64\n",
      "RevolvingCreditBalance                 84853 non-null float64\n",
      "BankcardUtilization                    84853 non-null float64\n",
      "AvailableBankcardCredit                84853 non-null float64\n",
      "TotalTrades                            84853 non-null float64\n",
      "TradesNeverDelinquent (percentage)     84853 non-null float64\n",
      "TradesOpenedLast6Months                84853 non-null float64\n",
      "DebtToIncomeRatio                      77557 non-null float64\n",
      "IncomeRange                            84853 non-null object\n",
      "IncomeVerifiable                       84853 non-null bool\n",
      "StatedMonthlyIncome                    84853 non-null float64\n",
      "LoanKey                                84853 non-null object\n",
      "TotalProsperLoans                      19797 non-null float64\n",
      "TotalProsperPaymentsBilled             19797 non-null float64\n",
      "OnTimeProsperPayments                  19797 non-null float64\n",
      "ProsperPaymentsLessThanOneMonthLate    19797 non-null float64\n",
      "ProsperPaymentsOneMonthPlusLate        19797 non-null float64\n",
      "ProsperPrincipalBorrowed               19797 non-null float64\n",
      "ProsperPrincipalOutstanding            19797 non-null float64\n",
      "ScorexChangeAtTimeOfListing            16642 non-null float64\n",
      "LoanCurrentDaysDelinquent              84853 non-null int64\n",
      "LoanFirstDefaultedCycleNumber          6244 non-null float64\n",
      "LoanMonthsSinceOrigination             84853 non-null int64\n",
      "LoanNumber                             84853 non-null int64\n",
      "LoanOriginalAmount                     84853 non-null int64\n",
      "LoanOriginationDate                    84853 non-null datetime64[ns]\n",
      "LoanOriginationQuarter                 84853 non-null object\n",
      "MemberKey                              84853 non-null object\n",
      "MonthlyLoanPayment                     84853 non-null float64\n",
      "LP_CustomerPayments                    84853 non-null float64\n",
      "LP_CustomerPrincipalPayments           84853 non-null float64\n",
      "LP_InterestandFees                     84853 non-null float64\n",
      "LP_ServiceFees                         84853 non-null float64\n",
      "LP_CollectionFees                      84853 non-null float64\n",
      "LP_GrossPrincipalLoss                  84853 non-null float64\n",
      "LP_NetPrincipalLoss                    84853 non-null float64\n",
      "LP_NonPrincipalRecoverypayments        84853 non-null float64\n",
      "PercentFunded                          84853 non-null float64\n",
      "Recommendations                        84853 non-null int64\n",
      "InvestmentFromFriendsCount             84853 non-null int64\n",
      "InvestmentFromFriendsAmount            84853 non-null float64\n",
      "Investors                              84853 non-null int64\n",
      "dtypes: bool(3), datetime64[ns](4), float64(49), int64(12), object(13)\n",
      "memory usage: 51.4+ MB\n"
     ]
    }
   ],
   "source": [
    "df.info()"
   ]
  },
  {
   "cell_type": "code",
   "execution_count": 12,
   "metadata": {},
   "outputs": [],
   "source": [
    "samples = np.random.choice(df.shape[0], 5000, replace = False)\n",
    "mv = df.iloc[samples,:]"
   ]
  },
  {
   "cell_type": "code",
   "execution_count": 5,
   "metadata": {},
   "outputs": [
    {
     "data": {
      "text/plain": [
       "113937"
      ]
     },
     "execution_count": 5,
     "metadata": {},
     "output_type": "execute_result"
    }
   ],
   "source": [
    "df.shape[0]"
   ]
  },
  {
   "cell_type": "code",
   "execution_count": 13,
   "metadata": {},
   "outputs": [
    {
     "name": "stdout",
     "output_type": "stream",
     "text": [
      "<class 'pandas.core.frame.DataFrame'>\n",
      "Int64Index: 5000 entries, 43536 to 72120\n",
      "Data columns (total 81 columns):\n",
      "ListingKey                             5000 non-null object\n",
      "ListingNumber                          5000 non-null int64\n",
      "ListingCreationDate                    5000 non-null object\n",
      "CreditGrade                            0 non-null object\n",
      "Term                                   5000 non-null int64\n",
      "LoanStatus                             5000 non-null object\n",
      "ClosedDate                             1513 non-null datetime64[ns]\n",
      "BorrowerAPR                            5000 non-null float64\n",
      "BorrowerRate                           5000 non-null float64\n",
      "LenderYield                            5000 non-null float64\n",
      "EstimatedEffectiveYield                5000 non-null float64\n",
      "EstimatedLoss                          5000 non-null float64\n",
      "EstimatedReturn                        5000 non-null float64\n",
      "ProsperRating (numeric)                5000 non-null float64\n",
      "ProsperRating (Alpha)                  5000 non-null object\n",
      "ProsperScore                           5000 non-null float64\n",
      "ListingCategory (numeric)              5000 non-null int64\n",
      "BorrowerState                          5000 non-null object\n",
      "Occupation                             4922 non-null object\n",
      "EmploymentStatus                       5000 non-null object\n",
      "EmploymentStatusDuration               5000 non-null float64\n",
      "IsBorrowerHomeowner                    5000 non-null bool\n",
      "CurrentlyInGroup                       5000 non-null bool\n",
      "GroupKey                               120 non-null object\n",
      "DateCreditPulled                       5000 non-null datetime64[ns]\n",
      "CreditScoreRangeLower                  5000 non-null float64\n",
      "CreditScoreRangeUpper                  5000 non-null float64\n",
      "FirstRecordedCreditLine                5000 non-null datetime64[ns]\n",
      "CurrentCreditLines                     5000 non-null float64\n",
      "OpenCreditLines                        5000 non-null float64\n",
      "TotalCreditLinespast7years             5000 non-null float64\n",
      "OpenRevolvingAccounts                  5000 non-null int64\n",
      "OpenRevolvingMonthlyPayment            5000 non-null int64\n",
      "InquiriesLast6Months                   5000 non-null float64\n",
      "TotalInquiries                         5000 non-null float64\n",
      "CurrentDelinquencies                   5000 non-null float64\n",
      "AmountDelinquent                       5000 non-null float64\n",
      "DelinquenciesLast7Years                5000 non-null float64\n",
      "PublicRecordsLast10Years               5000 non-null float64\n",
      "PublicRecordsLast12Months              5000 non-null float64\n",
      "RevolvingCreditBalance                 5000 non-null float64\n",
      "BankcardUtilization                    5000 non-null float64\n",
      "AvailableBankcardCredit                5000 non-null float64\n",
      "TotalTrades                            5000 non-null float64\n",
      "TradesNeverDelinquent (percentage)     5000 non-null float64\n",
      "TradesOpenedLast6Months                5000 non-null float64\n",
      "DebtToIncomeRatio                      4581 non-null float64\n",
      "IncomeRange                            5000 non-null object\n",
      "IncomeVerifiable                       5000 non-null bool\n",
      "StatedMonthlyIncome                    5000 non-null float64\n",
      "LoanKey                                5000 non-null object\n",
      "TotalProsperLoans                      1130 non-null float64\n",
      "TotalProsperPaymentsBilled             1130 non-null float64\n",
      "OnTimeProsperPayments                  1130 non-null float64\n",
      "ProsperPaymentsLessThanOneMonthLate    1130 non-null float64\n",
      "ProsperPaymentsOneMonthPlusLate        1130 non-null float64\n",
      "ProsperPrincipalBorrowed               1130 non-null float64\n",
      "ProsperPrincipalOutstanding            1130 non-null float64\n",
      "ScorexChangeAtTimeOfListing            955 non-null float64\n",
      "LoanCurrentDaysDelinquent              5000 non-null int64\n",
      "LoanFirstDefaultedCycleNumber          376 non-null float64\n",
      "LoanMonthsSinceOrigination             5000 non-null int64\n",
      "LoanNumber                             5000 non-null int64\n",
      "LoanOriginalAmount                     5000 non-null int64\n",
      "LoanOriginationDate                    5000 non-null datetime64[ns]\n",
      "LoanOriginationQuarter                 5000 non-null object\n",
      "MemberKey                              5000 non-null object\n",
      "MonthlyLoanPayment                     5000 non-null float64\n",
      "LP_CustomerPayments                    5000 non-null float64\n",
      "LP_CustomerPrincipalPayments           5000 non-null float64\n",
      "LP_InterestandFees                     5000 non-null float64\n",
      "LP_ServiceFees                         5000 non-null float64\n",
      "LP_CollectionFees                      5000 non-null float64\n",
      "LP_GrossPrincipalLoss                  5000 non-null float64\n",
      "LP_NetPrincipalLoss                    5000 non-null float64\n",
      "LP_NonPrincipalRecoverypayments        5000 non-null float64\n",
      "PercentFunded                          5000 non-null float64\n",
      "Recommendations                        5000 non-null int64\n",
      "InvestmentFromFriendsCount             5000 non-null int64\n",
      "InvestmentFromFriendsAmount            5000 non-null float64\n",
      "Investors                              5000 non-null int64\n",
      "dtypes: bool(3), datetime64[ns](4), float64(49), int64(12), object(13)\n",
      "memory usage: 3.0+ MB\n"
     ]
    }
   ],
   "source": [
    "mv.info()"
   ]
  },
  {
   "cell_type": "code",
   "execution_count": 15,
   "metadata": {},
   "outputs": [],
   "source": [
    "mv.to_excel(\"pr_5000.xlsx\", index=False) "
   ]
  },
  {
   "cell_type": "code",
   "execution_count": 22,
   "metadata": {},
   "outputs": [],
   "source": [
    "us = mv[['ListingKey']].copy()"
   ]
  },
  {
   "cell_type": "code",
   "execution_count": 23,
   "metadata": {},
   "outputs": [],
   "source": [
    "us['Country'] = 'US'"
   ]
  },
  {
   "cell_type": "code",
   "execution_count": 24,
   "metadata": {},
   "outputs": [
    {
     "name": "stdout",
     "output_type": "stream",
     "text": [
      "<class 'pandas.core.frame.DataFrame'>\n",
      "Int64Index: 5000 entries, 43536 to 72120\n",
      "Data columns (total 2 columns):\n",
      "ListingKey    5000 non-null object\n",
      "Country       5000 non-null object\n",
      "dtypes: object(2)\n",
      "memory usage: 117.2+ KB\n"
     ]
    }
   ],
   "source": [
    "us.info()"
   ]
  },
  {
   "cell_type": "code",
   "execution_count": 25,
   "metadata": {},
   "outputs": [
    {
     "data": {
      "text/plain": [
       "<bound method NDFrame.head of                      ListingKey Country\n",
       "43536   CE203558886196407900035      US\n",
       "9661    40583600237486544A0E214      US\n",
       "39689   FBFA3575984966777489CEA      US\n",
       "104020  FFED35695624309643D18F7      US\n",
       "2719    0B0F3527146881914B4FBCD      US\n",
       "30459   16A535463340260130E33EB      US\n",
       "63950   6CE9357449547032814B781      US\n",
       "75916   66B135718694587487D97D2      US\n",
       "82965   3CE03592454293984035539      US\n",
       "97599   FB8E358243472898328CB4E      US\n",
       "93416   97DD3539383432440BC2B73      US\n",
       "10946   5CA23593372470226A1E73D      US\n",
       "81678   D028353542773832126AE61      US\n",
       "24077   6A633570160252628D0D4C5      US\n",
       "111749  2C2A3524232895537D32177      US\n",
       "38253   351C359400821008783D5F2      US\n",
       "46734   A455358221515077405D186      US\n",
       "41768   F309355374140766398F8D3      US\n",
       "92468   711035748351078019C5D25      US\n",
       "9128    5D0B3587734490618989854      US\n",
       "103964  FF843597330859659AF894C      US\n",
       "40      10A43601079743929992413      US\n",
       "88921   F50E34675647365914F1C38      US\n",
       "32676   008235533149248987BAF17      US\n",
       "91140   26AF35482766171276DC51B      US\n",
       "77856   CB4F3457083284764FE2DE4      US\n",
       "41245   787B3599917284516787432      US\n",
       "313     09233589620788733CFB8CE      US\n",
       "23837   B72F3529691496484E594BB      US\n",
       "34931   C26B346374880761773BCF0      US\n",
       "...                         ...     ...\n",
       "69016   8B7B351798000491649E57D      US\n",
       "17945   E85D353527225322589337A      US\n",
       "59973   A74D35258718895496392A2      US\n",
       "26540   2DC735921613021815D34AE      US\n",
       "103251  AB3A355557623635430EC60      US\n",
       "95487   C31336001773130799D5E0D      US\n",
       "9982    926935048512890047D68AA      US\n",
       "4755    993B356637352061377D23F      US\n",
       "22971   04B435747149902963E7E19      US\n",
       "100820  DE293589178329790CDE83A      US\n",
       "79144   1BDD3593062489911A1A032      US\n",
       "68680   31573535334008699ECD30A      US\n",
       "30017   65023574697605843A43E5C      US\n",
       "83766   CB933488412687846AFD54E      US\n",
       "44099   8AB03532849188749B9504F      US\n",
       "23033   A6723569548467282701BC7      US\n",
       "68671   CC3F3596009618992214616      US\n",
       "35858   889A359531426766458EC12      US\n",
       "66116   04DD360011815201257E3E2      US\n",
       "58886   21F835895549519235F0A3C      US\n",
       "90200   9CB93599842871893BAC2FD      US\n",
       "5735    94873469723780792E7BCAB      US\n",
       "45101   5C3B35939446537359A730A      US\n",
       "69843   753D35207804510227197DB      US\n",
       "66063   C57B35427937858463F1466      US\n",
       "30585   BCD03531440821170F8DF85      US\n",
       "90953   B92235977372464445387E2      US\n",
       "102300  444C356004849541218DA1E      US\n",
       "61189   0C1135926544072364A2E54      US\n",
       "72120   3E093598395861708B70AA8      US\n",
       "\n",
       "[5000 rows x 2 columns]>"
      ]
     },
     "execution_count": 25,
     "metadata": {},
     "output_type": "execute_result"
    }
   ],
   "source": [
    "us.head"
   ]
  },
  {
   "cell_type": "code",
   "execution_count": 26,
   "metadata": {},
   "outputs": [],
   "source": [
    "us.to_excel(\"us_5000.xlsx\", index=False) "
   ]
  },
  {
   "cell_type": "code",
   "execution_count": null,
   "metadata": {},
   "outputs": [],
   "source": []
  }
 ],
 "metadata": {
  "kernelspec": {
   "display_name": "Python 3",
   "language": "python",
   "name": "python3"
  },
  "language_info": {
   "codemirror_mode": {
    "name": "ipython",
    "version": 3
   },
   "file_extension": ".py",
   "mimetype": "text/x-python",
   "name": "python",
   "nbconvert_exporter": "python",
   "pygments_lexer": "ipython3",
   "version": "3.7.1"
  }
 },
 "nbformat": 4,
 "nbformat_minor": 2
}
